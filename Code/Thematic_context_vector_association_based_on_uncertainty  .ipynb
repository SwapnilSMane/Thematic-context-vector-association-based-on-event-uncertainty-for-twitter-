{
 "cells": [
  {
   "cell_type": "markdown",
   "metadata": {},
   "source": [
    "<h1><b>Thematic context vector association based on event uncertainty for twitter  "
   ]
  },
  {
   "cell_type": "markdown",
   "metadata": {},
   "source": [
    "<h3><b>Import requried libraries"
   ]
  },
  {
   "cell_type": "code",
   "execution_count": 1,
   "metadata": {},
   "outputs": [
    {
     "name": "stderr",
     "output_type": "stream",
     "text": [
      "/root/anaconda3/lib/python3.7/site-packages/statsmodels/tools/_testing.py:19: FutureWarning: pandas.util.testing is deprecated. Use the functions in the public API at pandas.testing instead.\n",
      "  import pandas.util.testing as tm\n"
     ]
    }
   ],
   "source": [
    "import pandas as pd\n",
    "import string\n",
    "import re\n",
    "import numpy as np\n",
    "import nltk\n",
    "from sklearn.feature_extraction.text import CountVectorizer\n",
    "from mlxtend.frequent_patterns import apriori,association_rules\n",
    "from sklearn.metrics.pairwise import cosine_similarity\n",
    "import spacy\n",
    "\n",
    "import preprocessor as p\n",
    "from scipy.stats import entropy\n",
    "from math import log2\n",
    "import matplotlib.pyplot as plt\n",
    "import seaborn as sns\n",
    "import spacy\n",
    "nlp = spacy.load('en_core_web_lg')  \n",
    "#nlp = spacy.load('en_core_web_sm')\n",
    "stopword = nltk.corpus.stopwords.words('english')\n",
    "ps = nltk.PorterStemmer()\n",
    "%matplotlib inline"
   ]
  },
  {
   "cell_type": "markdown",
   "metadata": {},
   "source": [
    "\n",
    "<h3><b>Load twitter dataset from kaggle"
   ]
  },
  {
   "cell_type": "code",
   "execution_count": 2,
   "metadata": {},
   "outputs": [],
   "source": [
    "df = pd.read_csv('datasets_corona_May_Tweets.csv',engine='python')"
   ]
  },
  {
   "cell_type": "code",
   "execution_count": 3,
   "metadata": {},
   "outputs": [],
   "source": [
    "df=df[['created_at','text']]"
   ]
  },
  {
   "cell_type": "code",
   "execution_count": 4,
   "metadata": {},
   "outputs": [],
   "source": [
    "df['date'] = pd.to_datetime(df['created_at'])"
   ]
  },
  {
   "cell_type": "code",
   "execution_count": 5,
   "metadata": {},
   "outputs": [],
   "source": [
    "clean_data =df['text'].apply(lambda x: p.clean(x))"
   ]
  },
  {
   "cell_type": "code",
   "execution_count": 6,
   "metadata": {},
   "outputs": [],
   "source": [
    "def clean_textWithoutSteam(text):\n",
    "    text_lc = \"\".join([word.lower() for word in text if word not in string.punctuation]) # remove puntuation\n",
    "    text_rc = re.sub('[0-9]+', '', text_lc)\n",
    "    #after tweepy preprocessing the colon symbol left remain after    \n",
    "    tweet = re.sub(r':', '', text_rc)\n",
    "    tweet = re.sub(r'‚Ä¶', '', tweet)\n",
    "    #replace consecutive non-ASCII characters with a space\n",
    "    tweet = re.sub(r'[^\\x00-\\x7F]+',' ', tweet)\n",
    "    #filter using NLTK library append it to a string\n",
    "    tokens = re.split('\\W+', tweet)    # tokenization\n",
    "    text = [word for word in tokens if word not in stopword]  # remove stopwords\n",
    "    return text"
   ]
  },
  {
   "cell_type": "code",
   "execution_count": 7,
   "metadata": {},
   "outputs": [],
   "source": [
    "#TF\n",
    "def countVect(text):\n",
    "    countVectorizer = CountVectorizer(token_pattern=r\"(?u)\\b+\\b\",analyzer=clean_textWithoutSteam,stop_words=None) \n",
    "    countVector = countVectorizer.fit_transform(text)\n",
    "    dtm = pd.DataFrame(countVector.toarray(), columns=countVectorizer.get_feature_names())\n",
    "\n",
    "    return (dtm)\n",
    "\n",
    "df_withoutStem = countVect(clean_data)"
   ]
  },
  {
   "cell_type": "code",
   "execution_count": 8,
   "metadata": {},
   "outputs": [],
   "source": [
    "#TF-IDF\n",
    "from sklearn.feature_extraction.text import TfidfVectorizer\n",
    "def tfidfVect(text):\n",
    "    tfidfVectorizer = TfidfVectorizer(token_pattern=r\"(?u)\\b+\\b\",analyzer=clean_textWithoutSteam,stop_words=None) \n",
    "    tfidfVector = tfidfVectorizer.fit_transform(text)\n",
    "    dtm = pd.DataFrame(tfidfVector.toarray(), columns=tfidfVectorizer.get_feature_names())\n",
    "\n",
    "    return (dtm)"
   ]
  },
  {
   "cell_type": "code",
   "execution_count": 9,
   "metadata": {},
   "outputs": [
    {
     "data": {
      "text/plain": [
       "abandon              0.000212\n",
       "abbey                0.000212\n",
       "abdiaziz             0.000212\n",
       "abilene              0.000212\n",
       "able                 0.000423\n",
       "                       ...   \n",
       "zoey                 0.000212\n",
       "zombieapocalyptic    0.000212\n",
       "zombies              0.000212\n",
       "zone                 0.002538\n",
       "zoom                 0.000423\n",
       "Length: 4728, dtype: float64"
      ]
     },
     "execution_count": 9,
     "metadata": {},
     "output_type": "execute_result"
    }
   ],
   "source": [
    "#probability of words\n",
    "total_w = len(df_withoutStem.iloc[:,1:].columns)\n",
    "p_AllWords = df_withoutStem.iloc[:,1:].sum().apply(lambda x: x/total_w)\n",
    "p_AllWords"
   ]
  },
  {
   "cell_type": "code",
   "execution_count": 170,
   "metadata": {},
   "outputs": [
    {
     "data": {
      "text/plain": [
       "Index(['sarscov', 'sas', 'satisfy', 'saturday', 'saudi', 'save', 'saving',\n",
       "       'saw', 'say', 'saying', 'says', 'sayyes', 'scale', 'scalp', 'scamdemic',\n",
       "       'scapegoating', 'scar', 'scheduled', 'scheme', 'schoesler', 'schools',\n",
       "       'science', 'sciencebased', 'sciencerelated', 'sciencewhat',\n",
       "       'scientific', 'scientists', 'scorecard', 'scored', 'scores', 'scott',\n",
       "       'scream', 'screen', 'screened', 'screw', 'se', 'sea', 'seafarers',\n",
       "       'seafarershope', 'sealing', 'sean', 'season', 'seasonal', 'seasondown',\n",
       "       'seasonsheres', 'seat', 'second', 'secondary', 'secretary',\n",
       "       'secretarys'],\n",
       "      dtype='object')"
      ]
     },
     "execution_count": 170,
     "metadata": {},
     "output_type": "execute_result"
    }
   ],
   "source": [
    "df_withoutStem.columns[-1050:-1000]"
   ]
  },
  {
   "cell_type": "code",
   "execution_count": 171,
   "metadata": {},
   "outputs": [],
   "source": [
    "#action alive announce business brilliant cycling corona covid coronavirus scientists"
   ]
  },
  {
   "cell_type": "markdown",
   "metadata": {},
   "source": [
    "<h3><b>Query"
   ]
  },
  {
   "cell_type": "code",
   "execution_count": 221,
   "metadata": {},
   "outputs": [],
   "source": [
    "# 'What has been published about medical care?'\n",
    "doc1 = 'what brilliant scientists has announce about medical care for alive in action of covid or corona or coronavirus?'\n",
    "doc2 = 'What has been published about medical care?'\n",
    "clean_doc1 =p.clean(doc2)"
   ]
  },
  {
   "cell_type": "code",
   "execution_count": 222,
   "metadata": {},
   "outputs": [],
   "source": [
    "tok = clean_textWithoutSteam(clean_doc1)"
   ]
  },
  {
   "cell_type": "code",
   "execution_count": 223,
   "metadata": {},
   "outputs": [],
   "source": [
    "token=[]\n",
    "for i in tok:\n",
    "    if i in p_AllWords.index:\n",
    "        token.append(i)"
   ]
  },
  {
   "cell_type": "code",
   "execution_count": 224,
   "metadata": {},
   "outputs": [],
   "source": [
    "p_token = []\n",
    "for i in token:\n",
    "    p_token.append(p_AllWords[i])"
   ]
  },
  {
   "cell_type": "code",
   "execution_count": 225,
   "metadata": {},
   "outputs": [],
   "source": [
    "df_tok1 = pd.DataFrame([token,p_token],index=['token','prob']).transpose()"
   ]
  },
  {
   "cell_type": "code",
   "execution_count": 226,
   "metadata": {},
   "outputs": [
    {
     "data": {
      "text/html": [
       "<div>\n",
       "<style scoped>\n",
       "    .dataframe tbody tr th:only-of-type {\n",
       "        vertical-align: middle;\n",
       "    }\n",
       "\n",
       "    .dataframe tbody tr th {\n",
       "        vertical-align: top;\n",
       "    }\n",
       "\n",
       "    .dataframe thead th {\n",
       "        text-align: right;\n",
       "    }\n",
       "</style>\n",
       "<table border=\"1\" class=\"dataframe\">\n",
       "  <thead>\n",
       "    <tr style=\"text-align: right;\">\n",
       "      <th></th>\n",
       "      <th>token</th>\n",
       "      <th>prob</th>\n",
       "    </tr>\n",
       "  </thead>\n",
       "  <tbody>\n",
       "    <tr>\n",
       "      <th>0</th>\n",
       "      <td>medical</td>\n",
       "      <td>0.00486464</td>\n",
       "    </tr>\n",
       "    <tr>\n",
       "      <th>1</th>\n",
       "      <td>care</td>\n",
       "      <td>0.00380711</td>\n",
       "    </tr>\n",
       "  </tbody>\n",
       "</table>\n",
       "</div>"
      ],
      "text/plain": [
       "     token        prob\n",
       "0  medical  0.00486464\n",
       "1     care  0.00380711"
      ]
     },
     "execution_count": 226,
     "metadata": {},
     "output_type": "execute_result"
    }
   ],
   "source": [
    "df_tok1"
   ]
  },
  {
   "cell_type": "code",
   "execution_count": 227,
   "metadata": {},
   "outputs": [],
   "source": [
    "#tf\n",
    "df_tokTf = []\n",
    "for i in token:\n",
    "    df_tok = df[df['text'].apply(lambda x: i in x)]\n",
    "    clean_data_tags =df_tok['text'].apply(lambda x: p.clean(x))\n",
    "    df_tokTf.append(tfidfVect(clean_data_tags))\n",
    "    \n",
    "df_tokTfDtm = pd.DataFrame(df_tokTf)[0][0].append(pd.DataFrame(df_tokTf)[0][1]).fillna(0)\n",
    "df_tokTfDtm = df_tokTfDtm.drop_duplicates(subset=df_tokTfDtm.columns.values, keep='first')\n",
    "x_tf = []\n",
    "for i in range(len(df_tokTfDtm.iloc[:,1:])):\n",
    "    x_tf = x_tf + list(df_tokTfDtm.iloc[i,1:])\n",
    "    \n",
    "x_tf1 = np.array(x_tf).reshape(-1,1)"
   ]
  },
  {
   "cell_type": "code",
   "execution_count": 228,
   "metadata": {},
   "outputs": [],
   "source": [
    "#tfidf\n",
    "df_tokTfidf = []\n",
    "for i in token:\n",
    "    df_tokidf = df[df['text'].apply(lambda x: i in x)]\n",
    "    clean_data_tags =df_tokidf['text'].apply(lambda x: p.clean(x))\n",
    "    df_tokTfidf.append(tfidfVect(clean_data_tags))\n",
    "    \n",
    "df_tokTfidfDtm = pd.DataFrame(df_tokTfidf)[0][0].append(pd.DataFrame(df_tokTfidf)[0][1]).fillna(0)\n",
    "df_tokTfidfDtm = df_tokTfidfDtm.drop_duplicates(subset=df_tokTfidfDtm.columns.values, keep='first')\n",
    "x_tfidf = []\n",
    "for i in range(len(df_tokTfidfDtm.iloc[:,1:])):\n",
    "    x_tfidf = x_tfidf + list(df_tokTfidfDtm.iloc[i,1:])\n",
    "    \n",
    "x_tfidf1 = np.array(x_tfidf).reshape(-1,1)"
   ]
  },
  {
   "cell_type": "code",
   "execution_count": 229,
   "metadata": {},
   "outputs": [],
   "source": [
    "#Intersection  P(tags I word) = n(words from specific hashtag) / n(total words from all hashtags)\n",
    "total_wsI = df_withoutStem.iloc[:,1:].sum().sum()\n",
    "p_tokIword = []\n",
    "for i in token:\n",
    "    df_tokWord = df[df['text'].apply(lambda x: i in x)]\n",
    "    df_tokWord.reset_index(inplace=True)\n",
    "    clean_data_tags =df_tokWord['text'].apply(lambda x: p.clean(x))\n",
    "    df_wsI = countVect(clean_data_tags)\n",
    "   # print(total_wsI)\n",
    "    p_tokIword.append(df_wsI.iloc[:,1:].sum().apply(lambda x: x/total_wsI))\n",
    "    \n",
    "\n",
    "prob_tokIword = pd.DataFrame(p_tokIword)\n",
    "prob_tokIword.fillna(0,inplace=True)"
   ]
  },
  {
   "cell_type": "code",
   "execution_count": 230,
   "metadata": {},
   "outputs": [
    {
     "data": {
      "text/html": [
       "<div>\n",
       "<style scoped>\n",
       "    .dataframe tbody tr th:only-of-type {\n",
       "        vertical-align: middle;\n",
       "    }\n",
       "\n",
       "    .dataframe tbody tr th {\n",
       "        vertical-align: top;\n",
       "    }\n",
       "\n",
       "    .dataframe thead th {\n",
       "        text-align: right;\n",
       "    }\n",
       "</style>\n",
       "<table border=\"1\" class=\"dataframe\">\n",
       "  <thead>\n",
       "    <tr style=\"text-align: right;\">\n",
       "      <th></th>\n",
       "      <th>accidental</th>\n",
       "      <th>according</th>\n",
       "      <th>amp</th>\n",
       "      <th>anymore</th>\n",
       "      <th>artemilife</th>\n",
       "      <th>away</th>\n",
       "      <th>based</th>\n",
       "      <th>believe</th>\n",
       "      <th>belong</th>\n",
       "      <th>cairo</th>\n",
       "      <th>...</th>\n",
       "      <th>wholesome</th>\n",
       "      <th>wish</th>\n",
       "      <th>workerswatch</th>\n",
       "      <th>world</th>\n",
       "      <th>worldwide</th>\n",
       "      <th>would</th>\n",
       "      <th>woundsthat</th>\n",
       "      <th>wrong</th>\n",
       "      <th>yay</th>\n",
       "      <th>yrs</th>\n",
       "    </tr>\n",
       "  </thead>\n",
       "  <tbody>\n",
       "    <tr>\n",
       "      <th>0</th>\n",
       "      <td>0.000034</td>\n",
       "      <td>0.000034</td>\n",
       "      <td>0.000238</td>\n",
       "      <td>0.000068</td>\n",
       "      <td>0.000034</td>\n",
       "      <td>0.000034</td>\n",
       "      <td>0.000034</td>\n",
       "      <td>0.000034</td>\n",
       "      <td>0.000034</td>\n",
       "      <td>0.000068</td>\n",
       "      <td>...</td>\n",
       "      <td>0.000000</td>\n",
       "      <td>0.000000</td>\n",
       "      <td>0.000000</td>\n",
       "      <td>0.000000</td>\n",
       "      <td>0.000000</td>\n",
       "      <td>0.000000</td>\n",
       "      <td>0.000000</td>\n",
       "      <td>0.000000</td>\n",
       "      <td>0.000000</td>\n",
       "      <td>0.000000</td>\n",
       "    </tr>\n",
       "    <tr>\n",
       "      <th>1</th>\n",
       "      <td>0.000000</td>\n",
       "      <td>0.000000</td>\n",
       "      <td>0.000102</td>\n",
       "      <td>0.000000</td>\n",
       "      <td>0.000000</td>\n",
       "      <td>0.000000</td>\n",
       "      <td>0.000000</td>\n",
       "      <td>0.000000</td>\n",
       "      <td>0.000000</td>\n",
       "      <td>0.000000</td>\n",
       "      <td>...</td>\n",
       "      <td>0.000034</td>\n",
       "      <td>0.000034</td>\n",
       "      <td>0.000034</td>\n",
       "      <td>0.000068</td>\n",
       "      <td>0.000034</td>\n",
       "      <td>0.000034</td>\n",
       "      <td>0.000102</td>\n",
       "      <td>0.000034</td>\n",
       "      <td>0.000034</td>\n",
       "      <td>0.000034</td>\n",
       "    </tr>\n",
       "  </tbody>\n",
       "</table>\n",
       "<p>2 rows × 290 columns</p>\n",
       "</div>"
      ],
      "text/plain": [
       "   accidental  according       amp   anymore  artemilife      away     based  \\\n",
       "0    0.000034   0.000034  0.000238  0.000068    0.000034  0.000034  0.000034   \n",
       "1    0.000000   0.000000  0.000102  0.000000    0.000000  0.000000  0.000000   \n",
       "\n",
       "    believe    belong     cairo  ...  wholesome      wish  workerswatch  \\\n",
       "0  0.000034  0.000034  0.000068  ...   0.000000  0.000000      0.000000   \n",
       "1  0.000000  0.000000  0.000000  ...   0.000034  0.000034      0.000034   \n",
       "\n",
       "      world  worldwide     would  woundsthat     wrong       yay       yrs  \n",
       "0  0.000000   0.000000  0.000000    0.000000  0.000000  0.000000  0.000000  \n",
       "1  0.000068   0.000034  0.000034    0.000102  0.000034  0.000034  0.000034  \n",
       "\n",
       "[2 rows x 290 columns]"
      ]
     },
     "execution_count": 230,
     "metadata": {},
     "output_type": "execute_result"
    }
   ],
   "source": [
    "prob_tokIword"
   ]
  },
  {
   "cell_type": "code",
   "execution_count": 231,
   "metadata": {},
   "outputs": [
    {
     "data": {
      "text/html": [
       "<div>\n",
       "<style scoped>\n",
       "    .dataframe tbody tr th:only-of-type {\n",
       "        vertical-align: middle;\n",
       "    }\n",
       "\n",
       "    .dataframe tbody tr th {\n",
       "        vertical-align: top;\n",
       "    }\n",
       "\n",
       "    .dataframe thead th {\n",
       "        text-align: right;\n",
       "    }\n",
       "</style>\n",
       "<table border=\"1\" class=\"dataframe\">\n",
       "  <thead>\n",
       "    <tr style=\"text-align: right;\">\n",
       "      <th></th>\n",
       "      <th>accidental</th>\n",
       "      <th>according</th>\n",
       "      <th>amp</th>\n",
       "      <th>anymore</th>\n",
       "      <th>artemilife</th>\n",
       "      <th>away</th>\n",
       "      <th>based</th>\n",
       "      <th>believe</th>\n",
       "      <th>belong</th>\n",
       "      <th>cairo</th>\n",
       "      <th>...</th>\n",
       "      <th>wholesome</th>\n",
       "      <th>wish</th>\n",
       "      <th>workerswatch</th>\n",
       "      <th>world</th>\n",
       "      <th>worldwide</th>\n",
       "      <th>would</th>\n",
       "      <th>woundsthat</th>\n",
       "      <th>wrong</th>\n",
       "      <th>yay</th>\n",
       "      <th>yrs</th>\n",
       "    </tr>\n",
       "    <tr>\n",
       "      <th>token</th>\n",
       "      <th></th>\n",
       "      <th></th>\n",
       "      <th></th>\n",
       "      <th></th>\n",
       "      <th></th>\n",
       "      <th></th>\n",
       "      <th></th>\n",
       "      <th></th>\n",
       "      <th></th>\n",
       "      <th></th>\n",
       "      <th></th>\n",
       "      <th></th>\n",
       "      <th></th>\n",
       "      <th></th>\n",
       "      <th></th>\n",
       "      <th></th>\n",
       "      <th></th>\n",
       "      <th></th>\n",
       "      <th></th>\n",
       "      <th></th>\n",
       "      <th></th>\n",
       "    </tr>\n",
       "  </thead>\n",
       "  <tbody>\n",
       "    <tr>\n",
       "      <th>medical</th>\n",
       "      <td>0.00698465</td>\n",
       "      <td>0.00698465</td>\n",
       "      <td>0.0488925</td>\n",
       "      <td>0.0139693</td>\n",
       "      <td>0.00698465</td>\n",
       "      <td>0.00698465</td>\n",
       "      <td>0.00698465</td>\n",
       "      <td>0.00698465</td>\n",
       "      <td>0.00698465</td>\n",
       "      <td>0.0139693</td>\n",
       "      <td>...</td>\n",
       "      <td>0</td>\n",
       "      <td>0</td>\n",
       "      <td>0</td>\n",
       "      <td>0</td>\n",
       "      <td>0</td>\n",
       "      <td>0</td>\n",
       "      <td>0</td>\n",
       "      <td>0</td>\n",
       "      <td>0</td>\n",
       "      <td>0</td>\n",
       "    </tr>\n",
       "    <tr>\n",
       "      <th>care</th>\n",
       "      <td>0</td>\n",
       "      <td>0</td>\n",
       "      <td>0.0267745</td>\n",
       "      <td>0</td>\n",
       "      <td>0</td>\n",
       "      <td>0</td>\n",
       "      <td>0</td>\n",
       "      <td>0</td>\n",
       "      <td>0</td>\n",
       "      <td>0</td>\n",
       "      <td>...</td>\n",
       "      <td>0.00892483</td>\n",
       "      <td>0.00892483</td>\n",
       "      <td>0.00892483</td>\n",
       "      <td>0.0178497</td>\n",
       "      <td>0.00892483</td>\n",
       "      <td>0.00892483</td>\n",
       "      <td>0.0267745</td>\n",
       "      <td>0.00892483</td>\n",
       "      <td>0.00892483</td>\n",
       "      <td>0.00892483</td>\n",
       "    </tr>\n",
       "  </tbody>\n",
       "</table>\n",
       "<p>2 rows × 290 columns</p>\n",
       "</div>"
      ],
      "text/plain": [
       "         accidental   according        amp    anymore  artemilife        away  \\\n",
       "token                                                                           \n",
       "medical  0.00698465  0.00698465  0.0488925  0.0139693  0.00698465  0.00698465   \n",
       "care              0           0  0.0267745          0           0           0   \n",
       "\n",
       "              based     believe      belong      cairo  ...   wholesome  \\\n",
       "token                                                   ...               \n",
       "medical  0.00698465  0.00698465  0.00698465  0.0139693  ...           0   \n",
       "care              0           0           0          0  ...  0.00892483   \n",
       "\n",
       "               wish workerswatch      world   worldwide       would  \\\n",
       "token                                                                 \n",
       "medical           0            0          0           0           0   \n",
       "care     0.00892483   0.00892483  0.0178497  0.00892483  0.00892483   \n",
       "\n",
       "        woundsthat       wrong         yay         yrs  \n",
       "token                                                   \n",
       "medical          0           0           0           0  \n",
       "care     0.0267745  0.00892483  0.00892483  0.00892483  \n",
       "\n",
       "[2 rows x 290 columns]"
      ]
     },
     "execution_count": 231,
     "metadata": {},
     "output_type": "execute_result"
    }
   ],
   "source": [
    "prob_uncertinity = prob_tokIword.div(df_tok1['prob'],axis=0)\n",
    "\n",
    "prob_uncertinity.index = df_tok1['token']\n",
    "prob_uncertinity"
   ]
  },
  {
   "cell_type": "code",
   "execution_count": 232,
   "metadata": {},
   "outputs": [],
   "source": [
    "df_tokWord = df[df['text'].apply(lambda x: 'medical' in x)]\n",
    "df_tokWord.reset_index(inplace=True)\n",
    "clean_data_tags =df_tokWord['text'].apply(lambda x: p.clean(x))\n",
    "df_wsI = countVect(clean_data_tags)"
   ]
  },
  {
   "cell_type": "code",
   "execution_count": 233,
   "metadata": {},
   "outputs": [
    {
     "data": {
      "text/html": [
       "<div>\n",
       "<style scoped>\n",
       "    .dataframe tbody tr th:only-of-type {\n",
       "        vertical-align: middle;\n",
       "    }\n",
       "\n",
       "    .dataframe tbody tr th {\n",
       "        vertical-align: top;\n",
       "    }\n",
       "\n",
       "    .dataframe thead th {\n",
       "        text-align: right;\n",
       "    }\n",
       "</style>\n",
       "<table border=\"1\" class=\"dataframe\">\n",
       "  <thead>\n",
       "    <tr style=\"text-align: right;\">\n",
       "      <th></th>\n",
       "      <th>accidental</th>\n",
       "      <th>according</th>\n",
       "      <th>amp</th>\n",
       "      <th>anymore</th>\n",
       "      <th>artemilife</th>\n",
       "      <th>away</th>\n",
       "      <th>based</th>\n",
       "      <th>believe</th>\n",
       "      <th>belong</th>\n",
       "      <th>cairo</th>\n",
       "      <th>...</th>\n",
       "      <th>wholesome</th>\n",
       "      <th>wish</th>\n",
       "      <th>workerswatch</th>\n",
       "      <th>world</th>\n",
       "      <th>worldwide</th>\n",
       "      <th>would</th>\n",
       "      <th>woundsthat</th>\n",
       "      <th>wrong</th>\n",
       "      <th>yay</th>\n",
       "      <th>yrs</th>\n",
       "    </tr>\n",
       "  </thead>\n",
       "  <tbody>\n",
       "    <tr>\n",
       "      <th>medical</th>\n",
       "      <td>1.117518</td>\n",
       "      <td>1.117518</td>\n",
       "      <td>1.097348</td>\n",
       "      <td>1.326785</td>\n",
       "      <td>1.117518</td>\n",
       "      <td>1.117518</td>\n",
       "      <td>1.117518</td>\n",
       "      <td>1.117518</td>\n",
       "      <td>1.117518</td>\n",
       "      <td>1.326785</td>\n",
       "      <td>...</td>\n",
       "      <td>0.000000</td>\n",
       "      <td>0.000000</td>\n",
       "      <td>0.000000</td>\n",
       "      <td>0.000000</td>\n",
       "      <td>0.000000</td>\n",
       "      <td>0.000000</td>\n",
       "      <td>0.000000</td>\n",
       "      <td>0.000000</td>\n",
       "      <td>0.000000</td>\n",
       "      <td>0.000000</td>\n",
       "    </tr>\n",
       "    <tr>\n",
       "      <th>care</th>\n",
       "      <td>0.000000</td>\n",
       "      <td>0.000000</td>\n",
       "      <td>1.235208</td>\n",
       "      <td>0.000000</td>\n",
       "      <td>0.000000</td>\n",
       "      <td>0.000000</td>\n",
       "      <td>0.000000</td>\n",
       "      <td>0.000000</td>\n",
       "      <td>0.000000</td>\n",
       "      <td>0.000000</td>\n",
       "      <td>...</td>\n",
       "      <td>1.098221</td>\n",
       "      <td>1.098221</td>\n",
       "      <td>1.098221</td>\n",
       "      <td>1.320565</td>\n",
       "      <td>1.098221</td>\n",
       "      <td>1.098221</td>\n",
       "      <td>1.235208</td>\n",
       "      <td>1.098221</td>\n",
       "      <td>1.098221</td>\n",
       "      <td>1.098221</td>\n",
       "    </tr>\n",
       "  </tbody>\n",
       "</table>\n",
       "<p>2 rows × 290 columns</p>\n",
       "</div>"
      ],
      "text/plain": [
       "         accidental  according       amp   anymore  artemilife      away  \\\n",
       "medical    1.117518   1.117518  1.097348  1.326785    1.117518  1.117518   \n",
       "care       0.000000   0.000000  1.235208  0.000000    0.000000  0.000000   \n",
       "\n",
       "            based   believe    belong     cairo  ...  wholesome      wish  \\\n",
       "medical  1.117518  1.117518  1.117518  1.326785  ...   0.000000  0.000000   \n",
       "care     0.000000  0.000000  0.000000  0.000000  ...   1.098221  1.098221   \n",
       "\n",
       "         workerswatch     world  worldwide     would  woundsthat     wrong  \\\n",
       "medical      0.000000  0.000000   0.000000  0.000000    0.000000  0.000000   \n",
       "care         1.098221  1.320565   1.098221  1.098221    1.235208  1.098221   \n",
       "\n",
       "              yay       yrs  \n",
       "medical  0.000000  0.000000  \n",
       "care     1.098221  1.098221  \n",
       "\n",
       "[2 rows x 290 columns]"
      ]
     },
     "execution_count": 233,
     "metadata": {},
     "output_type": "execute_result"
    }
   ],
   "source": [
    "#uncertinity\n",
    "con_prob = prob_uncertinity.transpose()\n",
    "tot = []\n",
    "totE = []\n",
    "totI = []\n",
    "\n",
    "def unc(i,x,t_words,colm):\n",
    "    global COUNT\n",
    "    c_prob = con_prob[i].loc[colm[COUNT]]\n",
    "    s_word = x\n",
    "    \n",
    "    E  = -1/t_words * log2(t_words) - 1/s_word * log2(s_word) - c_prob * log2(1/c_prob)\n",
    "   # print(E)\n",
    "    ig = E * 1/s_word\n",
    "    un = 1- ig\n",
    "    COUNT = COUNT+1\n",
    "    #print(COUNT)\n",
    "    return un\n",
    "\n",
    "def entr(i,x,t_words,colm):\n",
    "    global COUNT\n",
    "    c_prob = con_prob[i].loc[colm[COUNT]]\n",
    "    s_word = x\n",
    "    E  = -1/t_words * log2(t_words) - 1/s_word * log2(s_word) - c_prob * log2(1/c_prob)\n",
    "    COUNT = COUNT+1\n",
    "    #print(COUNT)\n",
    "    return E\n",
    "\n",
    "def inf(i,x,t_words,colm):\n",
    "    global COUNT\n",
    "    c_prob = con_prob[i].loc[colm[COUNT]]\n",
    "    s_word = x\n",
    "    \n",
    "    E  = -1/t_words * log2(t_words) - 1/s_word * log2(s_word) - c_prob * log2(1/c_prob)\n",
    "   # print(E)\n",
    "    ig = E * 1/s_word\n",
    "    COUNT = COUNT+1\n",
    "    #print(COUNT)\n",
    "    return ig\n",
    "\n",
    "\n",
    "for i in token:\n",
    "    df_tokWord = df[df['text'].apply(lambda x: i in x)]\n",
    "    df_tokWord.reset_index(inplace=True)\n",
    "    clean_data_tags =df_tokWord['text'].apply(lambda x: p.clean(x))\n",
    "    df_wsI = countVect(clean_data_tags)\n",
    "    t_words = len(df_wsI.iloc[:,1:].columns)\n",
    "    un_tot = []\n",
    "    \n",
    "    COUNT = 0\n",
    "    tot.append(df_wsI.iloc[:,1:].sum().apply(lambda x: unc(i,x,t_words,df_wsI.iloc[:,1:].columns)))\n",
    "    COUNT = 0\n",
    "    totE.append(df_wsI.iloc[:,1:].sum().apply(lambda x: entr(i,x,t_words,df_wsI.iloc[:,1:].columns)))\n",
    "    COUNT = 0\n",
    "    totI.append(df_wsI.iloc[:,1:].sum().apply(lambda x: inf(i,x,t_words,df_wsI.iloc[:,1:].columns)))\n",
    "    \n",
    "unc_eventWord = pd.DataFrame(tot)\n",
    "unc_eventWord.fillna(0,inplace=True)\n",
    "\n",
    "uncE_eventWord = pd.DataFrame(totE)\n",
    "uncE_eventWord.fillna(0,inplace=True)\n",
    "\n",
    "uncI_eventWord = pd.DataFrame(totI)\n",
    "uncI_eventWord.fillna(0,inplace=True)\n",
    "\n",
    "#uncertantiy\n",
    "unc_eventWord.index = token\n",
    "uncE_eventWord.index = token\n",
    "uncI_eventWord.index = token\n",
    "unc_eventWord"
   ]
  },
  {
   "cell_type": "markdown",
   "metadata": {},
   "source": [
    "<h3><b> Association between event and keywords"
   ]
  },
  {
   "cell_type": "code",
   "execution_count": 234,
   "metadata": {},
   "outputs": [
    {
     "name": "stderr",
     "output_type": "stream",
     "text": [
      "/root/anaconda3/lib/python3.7/runpy.py:193: UserWarning: [W008] Evaluating Doc.similarity based on empty vectors.\n",
      "  \"__main__\", mod_spec)\n",
      "/root/anaconda3/lib/python3.7/runpy.py:193: UserWarning: [W008] Evaluating Doc.similarity based on empty vectors.\n",
      "  \"__main__\", mod_spec)\n",
      "/root/anaconda3/lib/python3.7/runpy.py:193: UserWarning: [W008] Evaluating Doc.similarity based on empty vectors.\n",
      "  \"__main__\", mod_spec)\n",
      "/root/anaconda3/lib/python3.7/runpy.py:193: UserWarning: [W008] Evaluating Doc.similarity based on empty vectors.\n",
      "  \"__main__\", mod_spec)\n",
      "/root/anaconda3/lib/python3.7/runpy.py:193: UserWarning: [W008] Evaluating Doc.similarity based on empty vectors.\n",
      "  \"__main__\", mod_spec)\n",
      "/root/anaconda3/lib/python3.7/runpy.py:193: UserWarning: [W008] Evaluating Doc.similarity based on empty vectors.\n",
      "  \"__main__\", mod_spec)\n",
      "/root/anaconda3/lib/python3.7/runpy.py:193: UserWarning: [W008] Evaluating Doc.similarity based on empty vectors.\n",
      "  \"__main__\", mod_spec)\n",
      "/root/anaconda3/lib/python3.7/runpy.py:193: UserWarning: [W008] Evaluating Doc.similarity based on empty vectors.\n",
      "  \"__main__\", mod_spec)\n",
      "/root/anaconda3/lib/python3.7/runpy.py:193: UserWarning: [W008] Evaluating Doc.similarity based on empty vectors.\n",
      "  \"__main__\", mod_spec)\n",
      "/root/anaconda3/lib/python3.7/runpy.py:193: UserWarning: [W008] Evaluating Doc.similarity based on empty vectors.\n",
      "  \"__main__\", mod_spec)\n",
      "/root/anaconda3/lib/python3.7/runpy.py:193: UserWarning: [W008] Evaluating Doc.similarity based on empty vectors.\n",
      "  \"__main__\", mod_spec)\n",
      "/root/anaconda3/lib/python3.7/runpy.py:193: UserWarning: [W008] Evaluating Doc.similarity based on empty vectors.\n",
      "  \"__main__\", mod_spec)\n",
      "/root/anaconda3/lib/python3.7/runpy.py:193: UserWarning: [W008] Evaluating Doc.similarity based on empty vectors.\n",
      "  \"__main__\", mod_spec)\n",
      "/root/anaconda3/lib/python3.7/runpy.py:193: UserWarning: [W008] Evaluating Doc.similarity based on empty vectors.\n",
      "  \"__main__\", mod_spec)\n",
      "/root/anaconda3/lib/python3.7/runpy.py:193: UserWarning: [W008] Evaluating Doc.similarity based on empty vectors.\n",
      "  \"__main__\", mod_spec)\n",
      "/root/anaconda3/lib/python3.7/runpy.py:193: UserWarning: [W008] Evaluating Doc.similarity based on empty vectors.\n",
      "  \"__main__\", mod_spec)\n",
      "/root/anaconda3/lib/python3.7/runpy.py:193: UserWarning: [W008] Evaluating Doc.similarity based on empty vectors.\n",
      "  \"__main__\", mod_spec)\n",
      "/root/anaconda3/lib/python3.7/runpy.py:193: UserWarning: [W008] Evaluating Doc.similarity based on empty vectors.\n",
      "  \"__main__\", mod_spec)\n",
      "/root/anaconda3/lib/python3.7/runpy.py:193: UserWarning: [W008] Evaluating Doc.similarity based on empty vectors.\n",
      "  \"__main__\", mod_spec)\n",
      "/root/anaconda3/lib/python3.7/runpy.py:193: UserWarning: [W008] Evaluating Doc.similarity based on empty vectors.\n",
      "  \"__main__\", mod_spec)\n",
      "/root/anaconda3/lib/python3.7/runpy.py:193: UserWarning: [W008] Evaluating Doc.similarity based on empty vectors.\n",
      "  \"__main__\", mod_spec)\n",
      "/root/anaconda3/lib/python3.7/runpy.py:193: UserWarning: [W008] Evaluating Doc.similarity based on empty vectors.\n",
      "  \"__main__\", mod_spec)\n",
      "/root/anaconda3/lib/python3.7/runpy.py:193: UserWarning: [W008] Evaluating Doc.similarity based on empty vectors.\n",
      "  \"__main__\", mod_spec)\n",
      "/root/anaconda3/lib/python3.7/runpy.py:193: UserWarning: [W008] Evaluating Doc.similarity based on empty vectors.\n",
      "  \"__main__\", mod_spec)\n",
      "/root/anaconda3/lib/python3.7/runpy.py:193: UserWarning: [W008] Evaluating Doc.similarity based on empty vectors.\n",
      "  \"__main__\", mod_spec)\n",
      "/root/anaconda3/lib/python3.7/runpy.py:193: UserWarning: [W008] Evaluating Doc.similarity based on empty vectors.\n",
      "  \"__main__\", mod_spec)\n",
      "/root/anaconda3/lib/python3.7/runpy.py:193: UserWarning: [W008] Evaluating Doc.similarity based on empty vectors.\n",
      "  \"__main__\", mod_spec)\n",
      "/root/anaconda3/lib/python3.7/runpy.py:193: UserWarning: [W008] Evaluating Doc.similarity based on empty vectors.\n",
      "  \"__main__\", mod_spec)\n",
      "/root/anaconda3/lib/python3.7/runpy.py:193: UserWarning: [W008] Evaluating Doc.similarity based on empty vectors.\n",
      "  \"__main__\", mod_spec)\n",
      "/root/anaconda3/lib/python3.7/runpy.py:193: UserWarning: [W008] Evaluating Doc.similarity based on empty vectors.\n",
      "  \"__main__\", mod_spec)\n",
      "/root/anaconda3/lib/python3.7/runpy.py:193: UserWarning: [W008] Evaluating Doc.similarity based on empty vectors.\n",
      "  \"__main__\", mod_spec)\n",
      "/root/anaconda3/lib/python3.7/runpy.py:193: UserWarning: [W008] Evaluating Doc.similarity based on empty vectors.\n",
      "  \"__main__\", mod_spec)\n",
      "/root/anaconda3/lib/python3.7/runpy.py:193: UserWarning: [W008] Evaluating Doc.similarity based on empty vectors.\n",
      "  \"__main__\", mod_spec)\n",
      "/root/anaconda3/lib/python3.7/runpy.py:193: UserWarning: [W008] Evaluating Doc.similarity based on empty vectors.\n",
      "  \"__main__\", mod_spec)\n",
      "/root/anaconda3/lib/python3.7/runpy.py:193: UserWarning: [W008] Evaluating Doc.similarity based on empty vectors.\n",
      "  \"__main__\", mod_spec)\n",
      "/root/anaconda3/lib/python3.7/runpy.py:193: UserWarning: [W008] Evaluating Doc.similarity based on empty vectors.\n",
      "  \"__main__\", mod_spec)\n",
      "/root/anaconda3/lib/python3.7/runpy.py:193: UserWarning: [W008] Evaluating Doc.similarity based on empty vectors.\n",
      "  \"__main__\", mod_spec)\n",
      "/root/anaconda3/lib/python3.7/runpy.py:193: UserWarning: [W008] Evaluating Doc.similarity based on empty vectors.\n",
      "  \"__main__\", mod_spec)\n",
      "/root/anaconda3/lib/python3.7/runpy.py:193: UserWarning: [W008] Evaluating Doc.similarity based on empty vectors.\n",
      "  \"__main__\", mod_spec)\n",
      "/root/anaconda3/lib/python3.7/runpy.py:193: UserWarning: [W008] Evaluating Doc.similarity based on empty vectors.\n",
      "  \"__main__\", mod_spec)\n",
      "/root/anaconda3/lib/python3.7/runpy.py:193: UserWarning: [W008] Evaluating Doc.similarity based on empty vectors.\n",
      "  \"__main__\", mod_spec)\n",
      "/root/anaconda3/lib/python3.7/runpy.py:193: UserWarning: [W008] Evaluating Doc.similarity based on empty vectors.\n",
      "  \"__main__\", mod_spec)\n",
      "/root/anaconda3/lib/python3.7/runpy.py:193: UserWarning: [W008] Evaluating Doc.similarity based on empty vectors.\n",
      "  \"__main__\", mod_spec)\n",
      "/root/anaconda3/lib/python3.7/runpy.py:193: UserWarning: [W008] Evaluating Doc.similarity based on empty vectors.\n",
      "  \"__main__\", mod_spec)\n"
     ]
    }
   ],
   "source": [
    "from nltk.corpus import wordnet \n",
    "a =[]\n",
    "c = []\n",
    "for i in df_tok1['token']:\n",
    "    b=[]\n",
    "    n=[]\n",
    "    for j in unc_eventWord.columns:\n",
    "        if (nlp(j).similarity(nlp(i))) != 0:\n",
    "            b.append([unc_eventWord[j][i],j])\n",
    "            n.append(j)\n",
    "    a.append(b)\n",
    "    c.append(n)"
   ]
  },
  {
   "cell_type": "code",
   "execution_count": 235,
   "metadata": {},
   "outputs": [],
   "source": [
    "x = list(pd.DataFrame(a[0])[0])+(list(pd.DataFrame(a[1])[0]))"
   ]
  },
  {
   "cell_type": "code",
   "execution_count": 236,
   "metadata": {},
   "outputs": [],
   "source": [
    "x1 = (np.array(x).reshape(-1, 1) )#.shape"
   ]
  },
  {
   "cell_type": "code",
   "execution_count": 262,
   "metadata": {},
   "outputs": [
    {
     "data": {
      "image/png": "[encoded data removed]",
      "text/plain": [
       "<Figure size 432x288 with 1 Axes>"
      ]
     },
     "metadata": {
      "needs_background": "light"
     },
     "output_type": "display_data"
    }
   ],
   "source": [
    "import matplotlib\n",
    "dates = matplotlib.dates.date2num(df['date'])\n",
    "pts = clean_data.apply(lambda x: len(x.split()[1:]))\n",
    "plt.plot(dates,pts,color='orange')\n",
    "plt.gcf().autofmt_xdate()\n",
    "plt.title('Length of tweet in Time-Series of COVID-19')\n",
    "plt.ylabel('length of tweet')\n",
    "plt.xlabel('Time_series (date-time)')\n",
    "plt.tight_layout()"
   ]
  },
  {
   "cell_type": "code",
   "execution_count": 264,
   "metadata": {},
   "outputs": [
    {
     "data": {
      "image/png": "[encoded data removed]",
      "text/plain": [
       "<Figure size 432x288 with 1 Axes>"
      ]
     },
     "metadata": {
      "needs_background": "light"
     },
     "output_type": "display_data"
    }
   ],
   "source": [
    "import matplotlib\n",
    "dates = matplotlib.dates.date2num(df['date'].iloc[:10])\n",
    "pts = clean_data.iloc[:10].apply(lambda x: len(x.split()[1:]))\n",
    "plt.plot(dates,pts,color='orange',marker='o',markersize=10)\n",
    "plt.gcf().autofmt_xdate()\n",
    "plt.title('Length of First ten tweets in Time-Series of COVID-19')\n",
    "plt.ylabel('length of tweet')\n",
    "plt.xlabel('Time_series (date-time)')\n",
    "plt.tight_layout()"
   ]
  },
  {
   "cell_type": "code",
   "execution_count": 239,
   "metadata": {},
   "outputs": [],
   "source": [
    "from sklearn.cluster import KMeans\n",
    "from sklearn.metrics import silhouette_score"
   ]
  },
  {
   "cell_type": "code",
   "execution_count": 240,
   "metadata": {},
   "outputs": [],
   "source": [
    "Kmean = KMeans(n_clusters=9)\n",
    "Kmean.fit(x1)\n",
    "theme=silhouette_score(x1,Kmean.labels_)"
   ]
  },
  {
   "cell_type": "code",
   "execution_count": 241,
   "metadata": {},
   "outputs": [],
   "source": [
    "wss = []\n",
    "for i in range(2,15):\n",
    "    km = KMeans(n_clusters=i)\n",
    "    km.fit(x1)\n",
    "    wss.append(km.inertia_)"
   ]
  },
  {
   "cell_type": "code",
   "execution_count": 242,
   "metadata": {},
   "outputs": [
    {
     "data": {
      "text/plain": [
       "Text(0.5, 1.0, 'Clusterwise Inertia')"
      ]
     },
     "execution_count": 242,
     "metadata": {},
     "output_type": "execute_result"
    },
    {
     "data": {
      "image/png": "[encoded data removed]",
      "text/plain": [
       "<Figure size 432x288 with 1 Axes>"
      ]
     },
     "metadata": {
      "needs_background": "light"
     },
     "output_type": "display_data"
    }
   ],
   "source": [
    "plt.plot(range(2,15),wss,marker='o',markerfacecolor='red',color='green')\n",
    "plt.xlabel('Number of Clusters')\n",
    "plt.ylabel('Inertia of Clusters')\n",
    "plt.title('Clusterwise Inertia')"
   ]
  },
  {
   "cell_type": "code",
   "execution_count": 243,
   "metadata": {},
   "outputs": [],
   "source": [
    "# TF\n",
    "Kmean = KMeans(n_clusters=9)\n",
    "Kmean.fit(x_tf1)\n",
    "tf=silhouette_score(x_tf1,Kmean.labels_)"
   ]
  },
  {
   "cell_type": "code",
   "execution_count": 244,
   "metadata": {},
   "outputs": [],
   "source": [
    "# TF-IDF\n",
    "Kmean = KMeans(n_clusters=9)\n",
    "Kmean.fit(x_tfidf1)\n",
    "tfIdf=silhouette_score(x_tfidf1,Kmean.labels_)"
   ]
  },
  {
   "cell_type": "code",
   "execution_count": 245,
   "metadata": {},
   "outputs": [
    {
     "data": {
      "image/png": "[encoded data removed]",
      "text/plain": [
       "<Figure size 432x288 with 1 Axes>"
      ]
     },
     "metadata": {
      "needs_background": "light"
     },
     "output_type": "display_data"
    }
   ],
   "source": [
    "plt.figure(figsize=(6,4))\n",
    "g= sns.barplot(x=['TF','TF-IDF',\"Thematic context vector\\n uncertainty\"],y=[tf*100,tfIdf*100,theme*100],palette=\"Blues_d\")\n",
    "\n",
    "ax=g\n",
    "#annotate axis = seaborn axis\n",
    "for pt in ax.patches:\n",
    "             ax.annotate(\"%.2f\" % pt.get_height(), (pt.get_x() + pt.get_width() / 1.8, pt.get_height()),\n",
    "                 ha='center', va='center', fontsize=13, xytext=(0,10),\n",
    "                 textcoords='offset points')\n",
    "_ = g.set_ylim(0,120) #To make space for the annotations\n",
    "\n",
    "plt.title('Results of K-means clustering ')\n",
    "plt.xlabel('Vector used for K-means')\n",
    "plt.ylabel('Silhouette Score')\n",
    "plt.tight_layout()"
   ]
  },
  {
   "cell_type": "code",
   "execution_count": 246,
   "metadata": {},
   "outputs": [],
   "source": [
    "all_df = []\n",
    "for i in range(len(a)):\n",
    "    temp = pd.DataFrame(a[i]).transpose()\n",
    "    temp.index = [token[i],'Keywords']\n",
    "    temp.columns = temp.iloc[1,:]\n",
    "    temp.drop('Keywords',axis=0,inplace=True)\n",
    "    all_df.append(temp)"
   ]
  },
  {
   "cell_type": "code",
   "execution_count": 247,
   "metadata": {},
   "outputs": [],
   "source": [
    "unc_EW = pd.concat(all_df)"
   ]
  },
  {
   "cell_type": "code",
   "execution_count": 248,
   "metadata": {},
   "outputs": [],
   "source": [
    "unc_EW.fillna(0,inplace=True)"
   ]
  },
  {
   "cell_type": "code",
   "execution_count": 249,
   "metadata": {},
   "outputs": [
    {
     "data": {
      "text/html": [
       "<div>\n",
       "<style scoped>\n",
       "    .dataframe tbody tr th:only-of-type {\n",
       "        vertical-align: middle;\n",
       "    }\n",
       "\n",
       "    .dataframe tbody tr th {\n",
       "        vertical-align: top;\n",
       "    }\n",
       "\n",
       "    .dataframe thead th {\n",
       "        text-align: right;\n",
       "    }\n",
       "</style>\n",
       "<table border=\"1\" class=\"dataframe\">\n",
       "  <thead>\n",
       "    <tr style=\"text-align: right;\">\n",
       "      <th>Keywords</th>\n",
       "      <th>accidental</th>\n",
       "      <th>according</th>\n",
       "      <th>amp</th>\n",
       "      <th>anymore</th>\n",
       "      <th>away</th>\n",
       "      <th>based</th>\n",
       "      <th>believe</th>\n",
       "      <th>belong</th>\n",
       "      <th>cairo</th>\n",
       "      <th>capped</th>\n",
       "      <th>...</th>\n",
       "      <th>watch</th>\n",
       "      <th>watching</th>\n",
       "      <th>wholesome</th>\n",
       "      <th>wish</th>\n",
       "      <th>world</th>\n",
       "      <th>worldwide</th>\n",
       "      <th>would</th>\n",
       "      <th>wrong</th>\n",
       "      <th>yay</th>\n",
       "      <th>yrs</th>\n",
       "    </tr>\n",
       "  </thead>\n",
       "  <tbody>\n",
       "    <tr>\n",
       "      <th>medical</th>\n",
       "      <td>1.117518</td>\n",
       "      <td>1.117518</td>\n",
       "      <td>1.097348</td>\n",
       "      <td>1.326785</td>\n",
       "      <td>1.117518</td>\n",
       "      <td>1.117518</td>\n",
       "      <td>1.117518</td>\n",
       "      <td>1.117518</td>\n",
       "      <td>1.326785</td>\n",
       "      <td>1.237557</td>\n",
       "      <td>...</td>\n",
       "      <td>0.000000</td>\n",
       "      <td>0.000000</td>\n",
       "      <td>0.000000</td>\n",
       "      <td>0.000000</td>\n",
       "      <td>0.000000</td>\n",
       "      <td>0.000000</td>\n",
       "      <td>0.000000</td>\n",
       "      <td>0.000000</td>\n",
       "      <td>0.000000</td>\n",
       "      <td>0.000000</td>\n",
       "    </tr>\n",
       "    <tr>\n",
       "      <th>care</th>\n",
       "      <td>0.000000</td>\n",
       "      <td>0.000000</td>\n",
       "      <td>1.235208</td>\n",
       "      <td>0.000000</td>\n",
       "      <td>0.000000</td>\n",
       "      <td>0.000000</td>\n",
       "      <td>0.000000</td>\n",
       "      <td>0.000000</td>\n",
       "      <td>0.000000</td>\n",
       "      <td>0.000000</td>\n",
       "      <td>...</td>\n",
       "      <td>1.098221</td>\n",
       "      <td>1.098221</td>\n",
       "      <td>1.098221</td>\n",
       "      <td>1.098221</td>\n",
       "      <td>1.320565</td>\n",
       "      <td>1.098221</td>\n",
       "      <td>1.098221</td>\n",
       "      <td>1.098221</td>\n",
       "      <td>1.098221</td>\n",
       "      <td>1.098221</td>\n",
       "    </tr>\n",
       "  </tbody>\n",
       "</table>\n",
       "<p>2 rows × 268 columns</p>\n",
       "</div>"
      ],
      "text/plain": [
       "Keywords  accidental  according       amp   anymore      away     based  \\\n",
       "medical     1.117518   1.117518  1.097348  1.326785  1.117518  1.117518   \n",
       "care        0.000000   0.000000  1.235208  0.000000  0.000000  0.000000   \n",
       "\n",
       "Keywords   believe    belong     cairo    capped  ...     watch  watching  \\\n",
       "medical   1.117518  1.117518  1.326785  1.237557  ...  0.000000  0.000000   \n",
       "care      0.000000  0.000000  0.000000  0.000000  ...  1.098221  1.098221   \n",
       "\n",
       "Keywords  wholesome      wish     world  worldwide     would     wrong  \\\n",
       "medical    0.000000  0.000000  0.000000   0.000000  0.000000  0.000000   \n",
       "care       1.098221  1.098221  1.320565   1.098221  1.098221  1.098221   \n",
       "\n",
       "Keywords       yay       yrs  \n",
       "medical   0.000000  0.000000  \n",
       "care      1.098221  1.098221  \n",
       "\n",
       "[2 rows x 268 columns]"
      ]
     },
     "execution_count": 249,
     "metadata": {},
     "output_type": "execute_result"
    }
   ],
   "source": [
    "unc_EW"
   ]
  },
  {
   "cell_type": "code",
   "execution_count": 287,
   "metadata": {},
   "outputs": [],
   "source": [
    "cnt = pd.DataFrame(df_withoutStem[list(unc_EW.columns)].sum())"
   ]
  },
  {
   "cell_type": "code",
   "execution_count": 288,
   "metadata": {},
   "outputs": [],
   "source": [
    "cnt = cnt.transpose()"
   ]
  },
  {
   "cell_type": "code",
   "execution_count": 388,
   "metadata": {},
   "outputs": [
    {
     "data": {
      "text/plain": [
       "0.0005232862375719519"
      ]
     },
     "execution_count": 388,
     "metadata": {},
     "output_type": "execute_result"
    }
   ],
   "source": [
    "0.000000+2 /tot"
   ]
  },
  {
   "cell_type": "code",
   "execution_count": 386,
   "metadata": {},
   "outputs": [
    {
     "data": {
      "text/html": [
       "<div>\n",
       "<style scoped>\n",
       "    .dataframe tbody tr th:only-of-type {\n",
       "        vertical-align: middle;\n",
       "    }\n",
       "\n",
       "    .dataframe tbody tr th {\n",
       "        vertical-align: top;\n",
       "    }\n",
       "\n",
       "    .dataframe thead th {\n",
       "        text-align: right;\n",
       "    }\n",
       "</style>\n",
       "<table border=\"1\" class=\"dataframe\">\n",
       "  <thead>\n",
       "    <tr style=\"text-align: right;\">\n",
       "      <th></th>\n",
       "      <th>accidental</th>\n",
       "      <th>according</th>\n",
       "      <th>amp</th>\n",
       "      <th>anymore</th>\n",
       "      <th>away</th>\n",
       "      <th>based</th>\n",
       "      <th>believe</th>\n",
       "      <th>belong</th>\n",
       "      <th>cairo</th>\n",
       "      <th>capped</th>\n",
       "      <th>...</th>\n",
       "      <th>watch</th>\n",
       "      <th>watching</th>\n",
       "      <th>wholesome</th>\n",
       "      <th>wish</th>\n",
       "      <th>world</th>\n",
       "      <th>worldwide</th>\n",
       "      <th>would</th>\n",
       "      <th>wrong</th>\n",
       "      <th>yay</th>\n",
       "      <th>yrs</th>\n",
       "    </tr>\n",
       "  </thead>\n",
       "  <tbody>\n",
       "    <tr>\n",
       "      <th>0</th>\n",
       "      <td>2</td>\n",
       "      <td>6</td>\n",
       "      <td>171</td>\n",
       "      <td>9</td>\n",
       "      <td>14</td>\n",
       "      <td>4</td>\n",
       "      <td>7</td>\n",
       "      <td>1</td>\n",
       "      <td>2</td>\n",
       "      <td>3</td>\n",
       "      <td>...</td>\n",
       "      <td>40</td>\n",
       "      <td>7</td>\n",
       "      <td>1</td>\n",
       "      <td>2</td>\n",
       "      <td>36</td>\n",
       "      <td>5</td>\n",
       "      <td>37</td>\n",
       "      <td>7</td>\n",
       "      <td>1</td>\n",
       "      <td>1</td>\n",
       "    </tr>\n",
       "  </tbody>\n",
       "</table>\n",
       "<p>1 rows × 268 columns</p>\n",
       "</div>"
      ],
      "text/plain": [
       "   accidental  according  amp  anymore  away  based  believe  belong  cairo  \\\n",
       "0           2          6  171        9    14      4        7       1      2   \n",
       "\n",
       "   capped  ...  watch  watching  wholesome  wish  world  worldwide  would  \\\n",
       "0       3  ...     40         7          1     2     36          5     37   \n",
       "\n",
       "   wrong  yay  yrs  \n",
       "0      7    1    1  \n",
       "\n",
       "[1 rows x 268 columns]"
      ]
     },
     "execution_count": 386,
     "metadata": {},
     "output_type": "execute_result"
    }
   ],
   "source": [
    "cnt"
   ]
  },
  {
   "cell_type": "code",
   "execution_count": 417,
   "metadata": {},
   "outputs": [
    {
     "data": {
      "text/html": [
       "<div>\n",
       "<style scoped>\n",
       "    .dataframe tbody tr th:only-of-type {\n",
       "        vertical-align: middle;\n",
       "    }\n",
       "\n",
       "    .dataframe tbody tr th {\n",
       "        vertical-align: top;\n",
       "    }\n",
       "\n",
       "    .dataframe thead th {\n",
       "        text-align: right;\n",
       "    }\n",
       "</style>\n",
       "<table border=\"1\" class=\"dataframe\">\n",
       "  <thead>\n",
       "    <tr style=\"text-align: right;\">\n",
       "      <th></th>\n",
       "      <th>providers</th>\n",
       "      <th>service</th>\n",
       "      <th>approximately</th>\n",
       "      <th>rest</th>\n",
       "      <th>neglect</th>\n",
       "      <th>heal</th>\n",
       "    </tr>\n",
       "  </thead>\n",
       "  <tbody>\n",
       "    <tr>\n",
       "      <th>0</th>\n",
       "      <td>1.321089</td>\n",
       "      <td>1.322659</td>\n",
       "      <td>1.321089</td>\n",
       "      <td>1.237301</td>\n",
       "      <td>1.321089</td>\n",
       "      <td>1.235993</td>\n",
       "    </tr>\n",
       "  </tbody>\n",
       "</table>\n",
       "</div>"
      ],
      "text/plain": [
       "   providers   service  approximately      rest   neglect      heal\n",
       "0   1.321089  1.322659       1.321089  1.237301  1.321089  1.235993"
      ]
     },
     "execution_count": 417,
     "metadata": {},
     "output_type": "execute_result"
    }
   ],
   "source": [
    "pd.DataFrame((unc_EW.iloc[1,:]+cnt / tot).iloc[0,:].sort_values(ascending=False)).transpose()[['providers','service','approximately','rest','neglect','heal']]#.head(50)"
   ]
  },
  {
   "cell_type": "code",
   "execution_count": 410,
   "metadata": {},
   "outputs": [
    {
     "data": {
      "text/plain": [
       "0    0.007326\n",
       "Name: virus, dtype: float64"
      ]
     },
     "execution_count": 410,
     "metadata": {},
     "output_type": "execute_result"
    }
   ],
   "source": [
    "pd.DataFrame((unc_EW.iloc[0,:]+cnt / tot).iloc[0,:].sort_values(ascending=True)).transpose()['virus']"
   ]
  },
  {
   "cell_type": "code",
   "execution_count": 389,
   "metadata": {},
   "outputs": [],
   "source": [
    "ranked = []\n",
    "tot = df_withoutStem[list(unc_EW.columns)].sum().sum()\n",
    "for i in range(len(unc_EW)):\n",
    "    temp = (unc_EW.iloc[0,:] + cnt /tot\n",
    "    ranked.append(temp)"
   ]
  },
  {
   "cell_type": "code",
   "execution_count": 250,
   "metadata": {},
   "outputs": [],
   "source": [
    "#Top ten words/keywords of each events\n",
    "label=[]\n",
    "coln=[]\n",
    "val=[]\n",
    "for i in range(len(unc_EW)):\n",
    "    s = pd.DataFrame(unc_EW.iloc[i,:].sort_values(ascending=False).head(50))\n",
    "    label.append(s.index)\n",
    "    coln.append(s.columns)\n",
    "    val.append(s.values)\n",
    "\n",
    "top_CwordsWithHash = pd.DataFrame(label,index=pd.DataFrame(coln).values).transpose()"
   ]
  },
  {
   "cell_type": "code",
   "execution_count": 251,
   "metadata": {},
   "outputs": [],
   "source": [
    "#uncertanity values of top keywords\n",
    "#pd.DataFrame(list(map(np.ravel, val)),index=pd.DataFrame(coln).values).transpose()[[token]].iloc[1:,:]"
   ]
  },
  {
   "cell_type": "code",
   "execution_count": 252,
   "metadata": {},
   "outputs": [],
   "source": [
    "#top_CwordsWithHash"
   ]
  },
  {
   "cell_type": "code",
   "execution_count": 253,
   "metadata": {},
   "outputs": [],
   "source": [
    "#top_CwordsWithHash"
   ]
  },
  {
   "cell_type": "code",
   "execution_count": 254,
   "metadata": {},
   "outputs": [
    {
     "data": {
      "text/html": [
       "<div>\n",
       "<style scoped>\n",
       "    .dataframe tbody tr th:only-of-type {\n",
       "        vertical-align: middle;\n",
       "    }\n",
       "\n",
       "    .dataframe tbody tr th {\n",
       "        vertical-align: top;\n",
       "    }\n",
       "\n",
       "    .dataframe thead th {\n",
       "        text-align: right;\n",
       "    }\n",
       "</style>\n",
       "<table border=\"1\" class=\"dataframe\">\n",
       "  <thead>\n",
       "    <tr style=\"text-align: right;\">\n",
       "      <th></th>\n",
       "      <th>(medical,)</th>\n",
       "      <th>(care,)</th>\n",
       "    </tr>\n",
       "  </thead>\n",
       "  <tbody>\n",
       "    <tr>\n",
       "      <th>0</th>\n",
       "      <td>morbidities</td>\n",
       "      <td>conducting</td>\n",
       "    </tr>\n",
       "    <tr>\n",
       "      <th>1</th>\n",
       "      <td>die</td>\n",
       "      <td>albert</td>\n",
       "    </tr>\n",
       "    <tr>\n",
       "      <th>2</th>\n",
       "      <td>died</td>\n",
       "      <td>lloydminster</td>\n",
       "    </tr>\n",
       "    <tr>\n",
       "      <th>3</th>\n",
       "      <td>talking</td>\n",
       "      <td>entities</td>\n",
       "    </tr>\n",
       "    <tr>\n",
       "      <th>4</th>\n",
       "      <td>saying</td>\n",
       "      <td>approximately</td>\n",
       "    </tr>\n",
       "    <tr>\n",
       "      <th>5</th>\n",
       "      <td>generally</td>\n",
       "      <td>area</td>\n",
       "    </tr>\n",
       "    <tr>\n",
       "      <th>6</th>\n",
       "      <td>cairo</td>\n",
       "      <td>navajo</td>\n",
       "    </tr>\n",
       "    <tr>\n",
       "      <th>7</th>\n",
       "      <td>dean</td>\n",
       "      <td>neglect</td>\n",
       "    </tr>\n",
       "    <tr>\n",
       "      <th>8</th>\n",
       "      <td>anymore</td>\n",
       "      <td>special</td>\n",
       "    </tr>\n",
       "    <tr>\n",
       "      <th>9</th>\n",
       "      <td>im</td>\n",
       "      <td>number</td>\n",
       "    </tr>\n",
       "  </tbody>\n",
       "</table>\n",
       "</div>"
      ],
      "text/plain": [
       "    (medical,)        (care,)\n",
       "0  morbidities     conducting\n",
       "1          die         albert\n",
       "2         died   lloydminster\n",
       "3      talking       entities\n",
       "4       saying  approximately\n",
       "5    generally           area\n",
       "6        cairo         navajo\n",
       "7         dean        neglect\n",
       "8      anymore        special\n",
       "9           im         number"
      ]
     },
     "execution_count": 254,
     "metadata": {},
     "output_type": "execute_result"
    }
   ],
   "source": [
    "forplt = top_CwordsWithHash[[token]]\n",
    "forplt[:10]"
   ]
  },
  {
   "cell_type": "code",
   "execution_count": 268,
   "metadata": {},
   "outputs": [
    {
     "data": {
      "image/png": "[encoded data removed]",
      "text/plain": [
       "<Figure size 432x288 with 1 Axes>"
      ]
     },
     "metadata": {
      "needs_background": "light"
     },
     "output_type": "display_data"
    }
   ],
   "source": [
    "import matplotlib\n",
    "dates = matplotlib.dates.date2num(df['date'])\n",
    "plt.plot(dates, df_withoutStem[token])\n",
    "plt.gcf().autofmt_xdate()\n",
    "plt.title('Occurrence of events in Time-Series for COVID-19')\n",
    "plt.ylabel('Occurrence of events')\n",
    "plt.xlabel('Time_series')\n",
    "plt.legend(token,loc=\"upper left\", bbox_to_anchor=(1,1))\n",
    "plt.tight_layout()"
   ]
  },
  {
   "cell_type": "code",
   "execution_count": null,
   "metadata": {},
   "outputs": [],
   "source": [
    "import matplotlib\n",
    "dates = matplotlib.dates.date2num(df['date'].iloc[:100])\n",
    "plt.plot(dates, df_withoutStem.iloc[:100,:][token], marker='o', markersize=3)\n",
    "plt.gcf().autofmt_xdate()\n",
    "plt.title('Occurrence of events in Time-Series for COVID-19')\n",
    "plt.ylabel('Occurrence of event')\n",
    "plt.xlabel('Time_series')\n",
    "plt.legend(token)\n",
    "plt.tight_layout()"
   ]
  },
  {
   "cell_type": "code",
   "execution_count": null,
   "metadata": {},
   "outputs": [],
   "source": []
  },
  {
   "cell_type": "code",
   "execution_count": null,
   "metadata": {},
   "outputs": [],
   "source": []
  }
 ],
 "metadata": {
  "kernelspec": {
   "display_name": "Python 3",
   "language": "python",
   "name": "python3"
  },
  "language_info": {
   "codemirror_mode": {
    "name": "ipython",
    "version": 3
   },
   "file_extension": ".py",
   "mimetype": "text/x-python",
   "name": "python",
   "nbconvert_exporter": "python",
   "pygments_lexer": "ipython3",
   "version": "3.8.2"
  }
 },
 "nbformat": 4,
 "nbformat_minor": 4
}
